{
 "cells": [
  {
   "cell_type": "code",
   "execution_count": 1,
   "id": "839e3f92",
   "metadata": {},
   "outputs": [],
   "source": [
    "import gymnasium as gym\n",
    "import numpy as np\n",
    "from collections import defaultdict"
   ]
  },
  {
   "cell_type": "markdown",
   "id": "1c1fd42b",
   "metadata": {},
   "source": [
    "No specific pseudocode in the book"
   ]
  },
  {
   "cell_type": "code",
   "execution_count": null,
   "id": "713bb484",
   "metadata": {},
   "outputs": [],
   "source": [
    "def expected_Sarsa(env, epsilon=0.1, step_size=0.5, discount_factor=1.0, episodes=10000, max_t=None):\n",
    "    nS = env.observation_space.n\n",
    "    nA = env.action_space.n\n",
    "    Q = defaultdict(lambda: np.zeros(nA))\n",
    "    for i in range(episodes):\n",
    "        state, _ = env.reset()\n",
    "        steps = 0\n",
    "        greedy = np.flatnonzero(Q[state] == Q[state].max())\n",
    "        probs = np.full(nA, epsilon/nA)\n",
    "        probs[greedy] += (1.0 - epsilon)/len(greedy)\n",
    "        action = np.random.choice(nA, p=probs)\n",
    "        while(True):\n",
    "            s_next, reward, term, trun, _ = env.step(action)\n",
    "            steps+=1\n",
    "            E_Q = 0\n",
    "            greedy = np.flatnonzero(Q[s_next] == Q[s_next].max())\n",
    "            probs = np.full(nA, epsilon/nA)\n",
    "            probs[greedy] += (1.0 - epsilon)/len(greedy)\n",
    "            for a in range(nA):\n",
    "                E_Q += probs[a]*Q[s_next][a]\n",
    "            Q[state][action] += step_size*(reward + discount_factor*E_Q - Q[state][action])\n",
    "            state = s_next\n",
    "            action = np.random.choice(nA, p=probs)\n",
    "            if term or trun:\n",
    "                break\n",
    "            if max_t is not None and steps >= max_t:\n",
    "                break\n",
    "    \n",
    "    return Q\n",
    "        "
   ]
  }
 ],
 "metadata": {
  "kernelspec": {
   "display_name": "venv (3.12.7)",
   "language": "python",
   "name": "python3"
  },
  "language_info": {
   "codemirror_mode": {
    "name": "ipython",
    "version": 3
   },
   "file_extension": ".py",
   "mimetype": "text/x-python",
   "name": "python",
   "nbconvert_exporter": "python",
   "pygments_lexer": "ipython3",
   "version": "3.12.7"
  }
 },
 "nbformat": 4,
 "nbformat_minor": 5
}
